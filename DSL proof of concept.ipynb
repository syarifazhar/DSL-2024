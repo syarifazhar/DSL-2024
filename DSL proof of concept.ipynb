{
 "cells": [
  {
   "cell_type": "code",
   "execution_count": null,
   "id": "e1082059",
   "metadata": {},
   "outputs": [],
   "source": [
    "using Plots\n",
    "\n",
    "maxiter = 10000  # More iterations for more data\n",
    "window_size = 50  # Window size for the rolling average\n",
    "\n",
    "function f(x, r=4)\n",
    "    r * x * (1 - x)\n",
    "end\n",
    "\n",
    "x0 = 0.8\n",
    "stored_x = zeros(maxiter)\n",
    "stored_x[1] = x0\n",
    "\n",
    "for n = 2:maxiter\n",
    "    stored_x[n] = f(stored_x[n-1])\n",
    "end\n",
    "\n",
    "# Calculate the rolling averages\n",
    "rolling_averages = zeros(maxiter)\n",
    "rolling_averages[1] = stored_x[1]\n",
    "\n",
    "for i = 2:(maxiter)\n",
    "    rolling_averages[i] = (49*rolling_averages[i-1] + stored_x[i])/50\n",
    "end\n",
    "\n",
    "for i = 1:maxiter\n",
    "    rolling_averages[i] = floor(100 * rolling_averages[i])\n",
    "end\n",
    "# Plotting the distribution of rolling averages\n",
    "histogram(rolling_averages, bins=30, label=\"Rolling Averages\", xlabel=\"Average Value\", ylabel=\"Frequency\", title=\"Distribution of Rolling Averages\")\n"
   ]
  },
  {
   "cell_type": "code",
   "execution_count": null,
   "id": "f795c3fe",
   "metadata": {},
   "outputs": [],
   "source": [
    "using Plots\n",
    "\n",
    "# Assuming mean_val and std_dev are already calculated\n",
    "mean_val = mean(rolling_averages)\n",
    "std_dev = std(rolling_averages)\n",
    "\n",
    "# Manually calculate the PDF values\n",
    "function normal_pdf(x, μ, σ)\n",
    "    return (1.0 / (σ * sqrt(2 * π))) * exp(-0.5 * ((x - μ) / σ)^2)\n",
    "end\n",
    "\n",
    "# Generate the x values (ensure this covers the range of your data)\n",
    "x_vals = collect(minimum(rolling_averages):0.1:maximum(rolling_averages))\n",
    "\n",
    "# Calculate the PDF for each x value\n",
    "normal_dist = [normal_pdf(x, mean_val, std_dev) for x in x_vals]\n",
    "\n",
    "# Plotting the histogram\n",
    "histogram(rolling_averages, bins=30, label=\"Rolling Averages\", normed=true, xlabel=\"Average Value\", ylabel=\"Frequency\", title=\"Distribution of Rolling Averages\")\n",
    "\n",
    "# Overlay the manually calculated normal distribution\n",
    "plot!(x_vals, normal_dist, label=\"Normal Distribution\", linewidth=2, color=:red)\n"
   ]
  }
 ],
 "metadata": {
  "kernelspec": {
   "display_name": "Julia 1.8.2",
   "language": "julia",
   "name": "julia-1.8"
  },
  "language_info": {
   "file_extension": ".jl",
   "mimetype": "application/julia",
   "name": "julia",
   "version": "1.8.2"
  }
 },
 "nbformat": 4,
 "nbformat_minor": 5
}
